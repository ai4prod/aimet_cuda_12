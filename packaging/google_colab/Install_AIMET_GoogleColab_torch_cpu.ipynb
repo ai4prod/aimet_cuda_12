{
 "nbformat": 4,
 "nbformat_minor": 0,
 "metadata": {
  "colab": {
   "name": "Untitled6.ipynb",
   "provenance": [],
   "collapsed_sections": [],
   "authorship_tag": "ABX9TyOXkEilViG3nqeGgMgNBX6A"
  },
  "kernelspec": {
   "name": "python3",
   "display_name": "Python 3"
  },
  "language_info": {
   "name": "python"
  },
  "accelerator": "GPU"
 },
 "cells": [
  {
   "cell_type": "code",
   "metadata": {
    "id": "w1Q6J_oGcM-0"
   },
   "source": [
    "import os\n",
    "os.environ['SRC_URL'] = 'https://raw.githubusercontent.com/quic/aimet/develop/packaging/google_colab/'\n",
    "!curl ${SRC_URL}reqs_deb_common.txt | xargs apt-get --assume-yes install"
   ],
   "execution_count": null,
   "outputs": []
  },
  {
   "cell_type": "code",
   "metadata": {
    "id": "PKFap1bSZFZp"
   },
   "source": [
    "!wget ${SRC_URL}reqs_pip_torch_cpu.txt\n",
    "!pip3 install -r reqs_pip_torch_cpu.txt -f https://download.pytorch.org/whl/torch_stable.html"
   ],
   "execution_count": null,
   "outputs": []
  },
  {
   "cell_type": "code",
   "metadata": {
    "id": "T69rgkNIZvlL"
   },
   "source": [
    "import os\n",
    "os.environ['release_tag']=\"1.19.1.py37\"\n",
    "!pip3 install https://github.com/quic/aimet/releases/download/${release_tag}/AimetCommon-torch_cpu_${release_tag}-cp37-cp37m-linux_x86_64.whl\n",
    "!pip3 install https://github.com/quic/aimet/releases/download/${release_tag}/AimetTorch-torch_cpu_${release_tag}-cp37-cp37m-linux_x86_64.whl"
   ],
   "execution_count": null,
   "outputs": []
  },
  {
   "cell_type": "code",
   "metadata": {
    "id": "kKqLI15aoXPj"
   },
   "source": [
    "import sys\n",
    "sys.path.append('/usr/local/lib/python3.7/dist-packages/aimet_common/x86_64-linux-gnu')\n",
    "sys.path.append('/usr/local/lib/python3.7/dist-packages/aimet_common/x86_64-linux-gnu/aimet_tensor_quantizer-0.0.0-py3.7-linux-x86_64.egg/')\n",
    "\n",
    "import os\n",
    "os.environ['LD_LIBRARY_PATH'] +=':/usr/local/lib/python3.6/dist-packages/aimet_common/x86_64-linux-gnu'"
   ],
   "execution_count": null,
   "outputs": []
  },
  {
   "cell_type": "code",
   "metadata": {
    "id": "irEiuCRFbPgt"
   },
   "source": [
    "import torch\n",
    "from torchvision import models\n",
    "from aimet_torch.quantsim import QuantizationSimModel\n",
    "m = models.resnet18()\n",
    "sim = QuantizationSimModel(m, dummy_input=torch.rand(1, 3, 224, 224))\n",
    "print(sim)"
   ],
   "execution_count": null,
   "outputs": []
  },
  {
   "cell_type": "code",
   "metadata": {
    "id": "rCgjhBEqpXaz"
   },
   "source": [
    ""
   ],
   "execution_count": null,
   "outputs": []
  }
 ]
}